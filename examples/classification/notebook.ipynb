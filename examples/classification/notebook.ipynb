{
 "cells": [
  {
   "cell_type": "code",
   "execution_count": 1,
   "metadata": {},
   "outputs": [],
   "source": [
    "import os\n",
    "\n",
    "import joblib\n",
    "import pandas as pd\n",
    "from sklearn.model_selection import KFold\n",
    "\n",
    "from autoflow import AutoFlowClassifier"
   ]
  },
  {
   "cell_type": "code",
   "execution_count": 2,
   "metadata": {},
   "outputs": [],
   "source": [
    "train_df = pd.read_csv(\"../data/train_classification.csv\")\n",
    "test_df = pd.read_csv(\"../data/test_classification.csv\")"
   ]
  },
  {
   "cell_type": "code",
   "execution_count": 3,
   "metadata": {},
   "outputs": [],
   "source": [
    "trained_pipeline = AutoFlowClassifier(initial_runs=5, run_limit=10, n_jobs=1, included_classifiers=[\"lightgbm\"],\n",
    "                                       per_run_time_limit=60)"
   ]
  },
  {
   "cell_type": "code",
   "execution_count": 4,
   "metadata": {},
   "outputs": [],
   "source": [
    "column_descriptions = {\n",
    "    \"id\": \"PassengerId\",\n",
    "    \"target\": \"Survived\",\n",
    "    \"ignore\": \"Name\"\n",
    "}"
   ]
  },
  {
   "cell_type": "code",
   "execution_count": 5,
   "metadata": {
    "scrolled": true
   },
   "outputs": [
    {
     "name": "stdout",
     "output_type": "stream",
     "text": [
      "[INFO] [autoflow.manager.data_manager.DataManager] X_train and X_test are both set.\n",
      "[INFO] [autoflow.hdl.hdl_constructor.HDL_Constructor] Using 'generic_recommend' method to initialize a generic DAG_workflow, \n",
      "to Adapt to various data such like NaN and categorical features.\n",
      "[INFO] [autoflow.estimator.classifier.AutoFlowClassifier] task_id:\t1933473006ef89e09d9afb840c87c50a\n",
      "[INFO] [autoflow.estimator.classifier.AutoFlowClassifier] hdl_id:\t08a9db6bbad09b339494595bfb77e593\n",
      "[INFO] [autoflow.estimator.classifier.AutoFlowClassifier] experiment_id:\t1\n",
      "[INFO] [dsmac.utils.io.cmd_reader.CMDReader] Output to smac3-output_2020-04-14_14:54:05_696028\n",
      "[INFO] [dsmac.facade.smac_hpo_facade.SMAC4HPO] Optimizing a deterministic scenario for quality without a tuner timeout - will make SMAC deterministic and only evaluate one configuration per iteration!\n",
      "[INFO] [dsmac.scenario.scenario.Scenario] No output directory for scenario logging specified -- scenario will not be logged.\n",
      "[INFO] [dsmac.initial_design.random_configuration_design.RandomConfigurations] Running initial design for 1 configurations\n",
      "[INFO] [dsmac.facade.smac_hpo_facade.SMAC4HPO] <class 'dsmac.facade.smac_hpo_facade.SMAC4HPO'>\n",
      "[INFO] [dsmac.intensification.intensification.Intensifier] Challenger (0.1841) is better than incumbent (0.1886) on 1 runs.\n",
      "[INFO] [dsmac.intensification.intensification.Intensifier] Changes in incumbent:\n",
      "[INFO] [dsmac.intensification.intensification.Intensifier]   estimating:lightgbm:_n_estimators-lr_ratio : 10.0 -> 7.226721104531826\n",
      "[INFO] [dsmac.intensification.intensification.Intensifier]   estimating:lightgbm:bagging_fraction : 1.0 -> 0.8500000000000001\n",
      "[INFO] [dsmac.intensification.intensification.Intensifier]   estimating:lightgbm:boosting_type : 'gbdt' -> 'goss'\n",
      "[INFO] [dsmac.intensification.intensification.Intensifier]   estimating:lightgbm:feature_fraction : 1.0 -> 0.6\n",
      "[INFO] [dsmac.intensification.intensification.Intensifier]   estimating:lightgbm:lambda_l1 : 0.001 -> 5.076044692126143e-07\n",
      "[INFO] [dsmac.intensification.intensification.Intensifier]   estimating:lightgbm:lambda_l2 : 0.001 -> 0.0001543873932215515\n",
      "[INFO] [dsmac.intensification.intensification.Intensifier]   estimating:lightgbm:learning_rate : 0.1 -> 0.07488578356989255\n",
      "[INFO] [dsmac.intensification.intensification.Intensifier]   estimating:lightgbm:max_depth : 31 -> 32\n",
      "[INFO] [dsmac.intensification.intensification.Intensifier]   estimating:lightgbm:min_child_weight : 0.001 -> 6.690106418024549e-07\n",
      "[INFO] [dsmac.intensification.intensification.Intensifier]   estimating:lightgbm:min_data_in_leaf : 1 -> 3\n",
      "[INFO] [dsmac.intensification.intensification.Intensifier]   estimating:lightgbm:num_leaves : 31 -> 50\n",
      "[INFO] [dsmac.intensification.intensification.Intensifier]   estimating:lightgbm:subsample_for_bin : 200000 -> 280000\n",
      "[INFO] [dsmac.intensification.intensification.Intensifier]   preprocessing:2num_nan->num:__choice__ : 'impute.fill_num' -> 'impute.fill_abnormal'\n",
      "[INFO] [dsmac.intensification.intensification.Intensifier]   preprocessing:2num_nan->num:impute.fill_abnormal:random_state : None -> '42:int'\n",
      "[INFO] [dsmac.intensification.intensification.Intensifier]   preprocessing:3cat_nan->cat:impute.fill_cat:strategy : '<NULL>' -> 'most_frequent'\n",
      "[INFO] [dsmac.intensification.intensification.Intensifier]   preprocessing:6lowR_cat->num:__choice__ : 'encode.one_hot' -> 'encode.cat_boost'\n",
      "[INFO] [dsmac.intensification.intensification.Intensifier]   preprocessing:6lowR_cat->num:encode.cat_boost:random_state : None -> '42:int'\n",
      "[INFO] [dsmac.intensification.intensification.Intensifier] Updated estimated cost of incumbent on 1 runs: 0.1841\n",
      "[INFO] [autoflow.estimator.classifier.AutoFlowClassifier] 'fit_ensemble_params' is False, don't fit_ensemble but use best trial as result.\n"
     ]
    },
    {
     "name": "stderr",
     "output_type": "stream",
     "text": [
      "/home/tqc/miniconda3/envs/ask/lib/python3.6/site-packages/sklearn/base.py:197: FutureWarning: From version 0.24, get_params will raise an AttributeError if a parameter cannot be retrieved as an instance attribute. Previously it would return None.\n",
      "  FutureWarning)\n"
     ]
    },
    {
     "data": {
      "text/plain": [
       "AutoFlowClassifier(hdl_constructor=None, highR_cat_threshold=0.5,\n",
       "                    highR_nan_threshold=0.5, log_config=None, log_file=None,\n",
       "                    random_state=42,\n",
       "                    resource_manager=<autoflow.manager.resource_manager.ResourceManager object at 0x7f17696cb0b8>,\n",
       "                    tuner=None)"
      ]
     },
     "execution_count": 5,
     "metadata": {},
     "output_type": "execute_result"
    }
   ],
   "source": [
    "trained_pipeline.fit(\n",
    "    X_train=train_df, X_test=test_df, column_descriptions=column_descriptions,\n",
    "    splitter=KFold(n_splits=3, shuffle=True, random_state=42), fit_ensemble_params=False\n",
    ")"
   ]
  },
  {
   "cell_type": "code",
   "execution_count": 6,
   "metadata": {
    "scrolled": true
   },
   "outputs": [
    {
     "data": {
      "text/plain": [
       "VoteClassifier(models=[ML_Workflow(memory=None,\n",
       "                                       steps=[('0highR_nan->nan',\n",
       "                                               DropAll(random_state=42)),\n",
       "                                              ('1nan->{cat_name=cat_nan,num_name=num_nan}',\n",
       "                                               SplitCatNum(cat_name='cat_nan',\n",
       "                                                           num_name='num_nan',\n",
       "                                                           random_state=42)),\n",
       "                                              ('2num_nan->num',\n",
       "                                               FillAbnormal(random_state=42)),\n",
       "                                              ('3cat_nan->cat',\n",
       "                                               FillCat(random_state=42,\n",
       "                                                       strategy='most_frequent')),\n",
       "                                              ('4cat->{highR=hig...\n",
       "                                               LGBMClassifier(_n_estimators-lr_ratio=7.226721104531826,\n",
       "                                                              bagging_fraction=0.8500000000000001,\n",
       "                                                              boosting_type='goss',\n",
       "                                                              early_stopping_rounds=500,\n",
       "                                                              feature_fraction=0.6,\n",
       "                                                              lambda_l1=5.076044692126143e-07,\n",
       "                                                              lambda_l2=0.0001543873932215515,\n",
       "                                                              learning_rate=0.07488578356989255,\n",
       "                                                              max_depth=32,\n",
       "                                                              min_child_weight=6.690106418024549e-07,\n",
       "                                                              min_data_in_leaf=3,\n",
       "                                                              num_leaves=50,\n",
       "                                                              subsample_for_bin=280000)]],\n",
       "                                       verbose=False)])"
      ]
     },
     "execution_count": 6,
     "metadata": {},
     "output_type": "execute_result"
    }
   ],
   "source": [
    "trained_pipeline.estimator"
   ]
  },
  {
   "cell_type": "code",
   "execution_count": 7,
   "metadata": {},
   "outputs": [],
   "source": [
    "hdl_constructor=trained_pipeline.hdl_constructors[0]"
   ]
  },
  {
   "cell_type": "code",
   "execution_count": 8,
   "metadata": {},
   "outputs": [
    {
     "data": {
      "image/svg+xml": [
       "<?xml version=\"1.0\" encoding=\"UTF-8\" standalone=\"no\"?>\n",
       "<!DOCTYPE svg PUBLIC \"-//W3C//DTD SVG 1.1//EN\"\n",
       " \"http://www.w3.org/Graphics/SVG/1.1/DTD/svg11.dtd\">\n",
       "<!-- Generated by graphviz version 2.38.0 (20140413.2041)\n",
       " -->\n",
       "<!-- Title: workflow_space Pages: 1 -->\n",
       "<svg width=\"854pt\" height=\"697pt\"\n",
       " viewBox=\"0.00 0.00 854.00 697.00\" xmlns=\"http://www.w3.org/2000/svg\" xmlns:xlink=\"http://www.w3.org/1999/xlink\">\n",
       "<g id=\"graph0\" class=\"graph\" transform=\"scale(1 1) rotate(0) translate(4 693)\">\n",
       "<title>workflow_space</title>\n",
       "<polygon fill=\"white\" stroke=\"none\" points=\"-4,4 -4,-693 850,-693 850,4 -4,4\"/>\n",
       "<text text-anchor=\"middle\" x=\"423\" y=\"-7.8\" font-family=\"Times,serif\" font-size=\"14.00\">WorkFlow Space</text>\n",
       "<!-- data -->\n",
       "<g id=\"node1\" class=\"node\"><title>data</title>\n",
       "<ellipse fill=\"none\" stroke=\"black\" cx=\"190\" cy=\"-671\" rx=\"27\" ry=\"18\"/>\n",
       "<text text-anchor=\"middle\" x=\"190\" y=\"-667.3\" font-family=\"Times,serif\" font-size=\"14.00\">data</text>\n",
       "</g>\n",
       "<!-- num -->\n",
       "<g id=\"node2\" class=\"node\"><title>num</title>\n",
       "<ellipse fill=\"none\" stroke=\"#0099cc\" cx=\"175\" cy=\"-128\" rx=\"27\" ry=\"18\"/>\n",
       "<text text-anchor=\"start\" x=\"162.5\" y=\"-124.3\" font-family=\"Times,serif\" font-size=\"14.00\" fill=\"#0099cc\">num</text>\n",
       "</g>\n",
       "<!-- data&#45;&gt;num -->\n",
       "<g id=\"edge1\" class=\"edge\"><title>data&#45;&gt;num</title>\n",
       "<path fill=\"none\" stroke=\"black\" d=\"M162.778,-669.824C110.241,-667.9 0,-655.466 0,-585 0,-585 0,-585 0,-214 0,-188.745 6.95511,-179.363 27,-164 58.9129,-139.541 105.23,-131.796 137.521,-129.535\"/>\n",
       "<polygon fill=\"black\" stroke=\"black\" points=\"138.102,-133.009 147.893,-128.963 137.716,-126.019 138.102,-133.009\"/>\n",
       "<text text-anchor=\"start\" x=\"0\" y=\"-407.3\" font-family=\"Times,serif\" font-size=\"14.00\">data_manager: </text>\n",
       "<text text-anchor=\"start\" x=\"85\" y=\"-407.3\" font-family=\"Times,serif\" font-size=\"14.00\" fill=\"#0099cc\">num</text>\n",
       "</g>\n",
       "<!-- cat -->\n",
       "<g id=\"node3\" class=\"node\"><title>cat</title>\n",
       "<ellipse fill=\"none\" stroke=\"#0066cc\" cx=\"196\" cy=\"-302\" rx=\"27\" ry=\"18\"/>\n",
       "<text text-anchor=\"start\" x=\"188\" y=\"-298.3\" font-family=\"Times,serif\" font-size=\"14.00\" fill=\"#0066cc\">cat</text>\n",
       "</g>\n",
       "<!-- data&#45;&gt;cat -->\n",
       "<g id=\"edge2\" class=\"edge\"><title>data&#45;&gt;cat</title>\n",
       "<path fill=\"none\" stroke=\"black\" d=\"M182.723,-653.425C175.984,-636.548 167,-609.46 167,-585 167,-585 167,-585 167,-409 167,-380.963 176.556,-350.185 184.697,-329.053\"/>\n",
       "<polygon fill=\"black\" stroke=\"black\" points=\"188.052,-330.091 188.532,-319.507 181.556,-327.482 188.052,-330.091\"/>\n",
       "<text text-anchor=\"start\" x=\"167\" y=\"-494.3\" font-family=\"Times,serif\" font-size=\"14.00\">data_manager: </text>\n",
       "<text text-anchor=\"start\" x=\"252\" y=\"-494.3\" font-family=\"Times,serif\" font-size=\"14.00\" fill=\"#0066cc\">cat</text>\n",
       "</g>\n",
       "<!-- nan -->\n",
       "<g id=\"node4\" class=\"node\"><title>nan</title>\n",
       "<ellipse fill=\"none\" stroke=\"#339933\" cx=\"331\" cy=\"-497\" rx=\"27\" ry=\"18\"/>\n",
       "<text text-anchor=\"start\" x=\"321\" y=\"-493.3\" font-family=\"Times,serif\" font-size=\"14.00\" fill=\"#339933\">nan</text>\n",
       "</g>\n",
       "<!-- data&#45;&gt;nan -->\n",
       "<g id=\"edge3\" class=\"edge\"><title>data&#45;&gt;nan</title>\n",
       "<path fill=\"none\" stroke=\"black\" d=\"M191.577,-652.843C194.377,-630.735 201.957,-592.052 222,-566 241.811,-540.25 274.367,-521.787 298.75,-510.656\"/>\n",
       "<polygon fill=\"black\" stroke=\"black\" points=\"300.225,-513.831 307.979,-506.611 297.415,-507.42 300.225,-513.831\"/>\n",
       "<text text-anchor=\"start\" x=\"222\" y=\"-581.3\" font-family=\"Times,serif\" font-size=\"14.00\">data_manager: </text>\n",
       "<text text-anchor=\"start\" x=\"307\" y=\"-581.3\" font-family=\"Times,serif\" font-size=\"14.00\" fill=\"#339933\">nan</text>\n",
       "</g>\n",
       "<!-- highR_nan -->\n",
       "<g id=\"node5\" class=\"node\"><title>highR_nan</title>\n",
       "<ellipse fill=\"none\" stroke=\"#ffcc33\" cx=\"385\" cy=\"-584\" rx=\"49.2915\" ry=\"18\"/>\n",
       "<text text-anchor=\"start\" x=\"355\" y=\"-580.3\" font-family=\"Times,serif\" font-size=\"14.00\" fill=\"#ffcc33\">highR_nan</text>\n",
       "</g>\n",
       "<!-- data&#45;&gt;highR_nan -->\n",
       "<g id=\"edge4\" class=\"edge\"><title>data&#45;&gt;highR_nan</title>\n",
       "<path fill=\"none\" stroke=\"black\" d=\"M211.99,-660.415C244.264,-646.346 304.981,-619.88 345.213,-602.343\"/>\n",
       "<polygon fill=\"black\" stroke=\"black\" points=\"346.701,-605.513 354.469,-598.308 343.904,-599.096 346.701,-605.513\"/>\n",
       "<text text-anchor=\"start\" x=\"300\" y=\"-624.8\" font-family=\"Times,serif\" font-size=\"14.00\">data_manager: </text>\n",
       "<text text-anchor=\"start\" x=\"385\" y=\"-624.8\" font-family=\"Times,serif\" font-size=\"14.00\" fill=\"#ffcc33\">highR_nan</text>\n",
       "</g>\n",
       "<!-- target -->\n",
       "<g id=\"node10\" class=\"node\"><title>target</title>\n",
       "<ellipse fill=\"none\" stroke=\"#000000\" cx=\"175\" cy=\"-41\" rx=\"30.5947\" ry=\"18\"/>\n",
       "<text text-anchor=\"start\" x=\"159.5\" y=\"-37.3\" font-family=\"Times,serif\" font-size=\"14.00\" fill=\"#000000\">target</text>\n",
       "</g>\n",
       "<!-- num&#45;&gt;target -->\n",
       "<g id=\"edge14\" class=\"edge\"><title>num&#45;&gt;target</title>\n",
       "<path fill=\"none\" stroke=\"black\" d=\"M175,-109.799C175,-98.1626 175,-82.5479 175,-69.2368\"/>\n",
       "<polygon fill=\"black\" stroke=\"black\" points=\"178.5,-69.1754 175,-59.1754 171.5,-69.1755 178.5,-69.1754\"/>\n",
       "<text text-anchor=\"start\" x=\"175\" y=\"-80.8\" font-family=\"Times,serif\" font-size=\"14.00\" fill=\"#333366\">lightgbm</text>\n",
       "</g>\n",
       "<!-- highR_cat -->\n",
       "<g id=\"node8\" class=\"node\"><title>highR_cat</title>\n",
       "<ellipse fill=\"none\" stroke=\"#663399\" cx=\"84\" cy=\"-215\" rx=\"46.5926\" ry=\"18\"/>\n",
       "<text text-anchor=\"start\" x=\"56\" y=\"-211.3\" font-family=\"Times,serif\" font-size=\"14.00\" fill=\"#663399\">highR_cat</text>\n",
       "</g>\n",
       "<!-- cat&#45;&gt;highR_cat -->\n",
       "<g id=\"edge10\" class=\"edge\"><title>cat&#45;&gt;highR_cat</title>\n",
       "<path fill=\"none\" stroke=\"black\" d=\"M169.667,-297.595C148.466,-293.531 119.283,-284.751 101,-266 94.9022,-259.746 90.9886,-251.223 88.478,-242.985\"/>\n",
       "<polygon fill=\"black\" stroke=\"black\" points=\"91.8673,-242.111 86.0589,-233.25 85.0739,-243.799 91.8673,-242.111\"/>\n",
       "<text text-anchor=\"start\" x=\"101\" y=\"-255.8\" font-family=\"Times,serif\" font-size=\"14.00\">operate.split.cat: </text>\n",
       "<text text-anchor=\"start\" x=\"195\" y=\"-255.8\" font-family=\"Times,serif\" font-size=\"14.00\" fill=\"#663399\">highR_cat</text>\n",
       "</g>\n",
       "<!-- lowR_cat -->\n",
       "<g id=\"node9\" class=\"node\"><title>lowR_cat</title>\n",
       "<ellipse fill=\"none\" stroke=\"#ff6600\" cx=\"283\" cy=\"-215\" rx=\"44.393\" ry=\"18\"/>\n",
       "<text text-anchor=\"start\" x=\"257\" y=\"-211.3\" font-family=\"Times,serif\" font-size=\"14.00\" fill=\"#ff6600\">lowR_cat</text>\n",
       "</g>\n",
       "<!-- cat&#45;&gt;lowR_cat -->\n",
       "<g id=\"edge11\" class=\"edge\"><title>cat&#45;&gt;lowR_cat</title>\n",
       "<path fill=\"none\" stroke=\"black\" d=\"M218.085,-291.401C230.066,-285.389 244.522,-276.743 255,-266 261.662,-259.169 267.263,-250.439 271.662,-242.191\"/>\n",
       "<polygon fill=\"black\" stroke=\"black\" points=\"274.807,-243.726 276.11,-233.211 268.535,-240.618 274.807,-243.726\"/>\n",
       "<text text-anchor=\"start\" x=\"267\" y=\"-255.8\" font-family=\"Times,serif\" font-size=\"14.00\">operate.split.cat: </text>\n",
       "<text text-anchor=\"start\" x=\"361\" y=\"-255.8\" font-family=\"Times,serif\" font-size=\"14.00\" fill=\"#ff6600\">lowR_cat</text>\n",
       "</g>\n",
       "<!-- cat_nan -->\n",
       "<g id=\"node6\" class=\"node\"><title>cat_nan</title>\n",
       "<ellipse fill=\"none\" stroke=\"#33cc99\" cx=\"248\" cy=\"-410\" rx=\"38.1938\" ry=\"18\"/>\n",
       "<text text-anchor=\"start\" x=\"226.5\" y=\"-406.3\" font-family=\"Times,serif\" font-size=\"14.00\" fill=\"#33cc99\">cat_nan</text>\n",
       "</g>\n",
       "<!-- nan&#45;&gt;cat_nan -->\n",
       "<g id=\"edge6\" class=\"edge\"><title>nan&#45;&gt;cat_nan</title>\n",
       "<path fill=\"none\" stroke=\"black\" d=\"M316.92,-481.581C304.238,-468.593 285.372,-449.273 270.584,-434.128\"/>\n",
       "<polygon fill=\"black\" stroke=\"black\" points=\"272.767,-431.354 263.276,-426.644 267.759,-436.244 272.767,-431.354\"/>\n",
       "<text text-anchor=\"start\" x=\"295\" y=\"-450.8\" font-family=\"Times,serif\" font-size=\"14.00\">operate.split.cat_num: </text>\n",
       "<text text-anchor=\"start\" x=\"421\" y=\"-450.8\" font-family=\"Times,serif\" font-size=\"14.00\" fill=\"#33cc99\">cat_nan</text>\n",
       "</g>\n",
       "<!-- num_nan -->\n",
       "<g id=\"node7\" class=\"node\"><title>num_nan</title>\n",
       "<ellipse fill=\"none\" stroke=\"#ff0033\" cx=\"605\" cy=\"-356\" rx=\"44.393\" ry=\"18\"/>\n",
       "<text text-anchor=\"start\" x=\"579\" y=\"-352.3\" font-family=\"Times,serif\" font-size=\"14.00\" fill=\"#ff0033\">num_nan</text>\n",
       "</g>\n",
       "<!-- nan&#45;&gt;num_nan -->\n",
       "<g id=\"edge7\" class=\"edge\"><title>nan&#45;&gt;num_nan</title>\n",
       "<path fill=\"none\" stroke=\"black\" d=\"M357.316,-492.469C385.716,-487.943 431.743,-478.501 468,-461 511.868,-439.824 555.457,-403.408 581.31,-379.772\"/>\n",
       "<polygon fill=\"black\" stroke=\"black\" points=\"583.792,-382.243 588.745,-372.878 579.032,-377.111 583.792,-382.243\"/>\n",
       "<text text-anchor=\"start\" x=\"495\" y=\"-450.8\" font-family=\"Times,serif\" font-size=\"14.00\">operate.split.cat_num: </text>\n",
       "<text text-anchor=\"start\" x=\"621\" y=\"-450.8\" font-family=\"Times,serif\" font-size=\"14.00\" fill=\"#ff0033\">num_nan</text>\n",
       "</g>\n",
       "<!-- highR_nan&#45;&gt;nan -->\n",
       "<g id=\"edge5\" class=\"edge\"><title>highR_nan&#45;&gt;nan</title>\n",
       "<path fill=\"none\" stroke=\"black\" d=\"M374.331,-566.207C366.414,-553.745 355.496,-536.559 346.6,-522.556\"/>\n",
       "<polygon fill=\"black\" stroke=\"black\" points=\"349.415,-520.46 341.099,-513.896 343.507,-524.213 349.415,-520.46\"/>\n",
       "<text text-anchor=\"start\" x=\"362\" y=\"-537.8\" font-family=\"Times,serif\" font-size=\"14.00\">{</text>\n",
       "<text text-anchor=\"start\" x=\"369\" y=\"-537.8\" font-family=\"Times,serif\" font-size=\"14.00\" fill=\"#663366\">operate.drop</text>\n",
       "<text text-anchor=\"start\" x=\"438\" y=\"-537.8\" font-family=\"Times,serif\" font-size=\"14.00\">, </text>\n",
       "<text text-anchor=\"start\" x=\"446\" y=\"-537.8\" font-family=\"Times,serif\" font-size=\"14.00\" fill=\"#663300\">operate.merge</text>\n",
       "<text text-anchor=\"start\" x=\"525\" y=\"-537.8\" font-family=\"Times,serif\" font-size=\"14.00\">}</text>\n",
       "</g>\n",
       "<!-- cat_nan&#45;&gt;cat -->\n",
       "<g id=\"edge9\" class=\"edge\"><title>cat_nan&#45;&gt;cat</title>\n",
       "<path fill=\"none\" stroke=\"black\" d=\"M239.645,-391.969C231.207,-374.769 218.075,-347.999 208.418,-328.314\"/>\n",
       "<polygon fill=\"black\" stroke=\"black\" points=\"211.539,-326.729 203.992,-319.292 205.254,-329.812 211.539,-326.729\"/>\n",
       "<text text-anchor=\"start\" x=\"230\" y=\"-353.3\" font-family=\"Times,serif\" font-size=\"14.00\">{</text>\n",
       "<text text-anchor=\"start\" x=\"237\" y=\"-353.3\" font-family=\"Times,serif\" font-size=\"14.00\" fill=\"#660033\">impute.fill_cat</text>\n",
       "<text text-anchor=\"start\" x=\"318\" y=\"-353.3\" font-family=\"Times,serif\" font-size=\"14.00\">, </text>\n",
       "<text text-anchor=\"start\" x=\"326\" y=\"-353.3\" font-family=\"Times,serif\" font-size=\"14.00\" fill=\"#333366\">impute.fill_abnormal</text>\n",
       "<text text-anchor=\"start\" x=\"443\" y=\"-353.3\" font-family=\"Times,serif\" font-size=\"14.00\">}</text>\n",
       "</g>\n",
       "<!-- num_nan&#45;&gt;num -->\n",
       "<g id=\"edge8\" class=\"edge\"><title>num_nan&#45;&gt;num</title>\n",
       "<path fill=\"none\" stroke=\"black\" d=\"M609.238,-337.976C617.445,-300.475 630.767,-210.397 583,-164 556.703,-138.457 307.907,-131.353 212.234,-129.557\"/>\n",
       "<polygon fill=\"black\" stroke=\"black\" points=\"212.2,-126.056 202.139,-129.377 212.075,-133.055 212.2,-126.056\"/>\n",
       "<text text-anchor=\"start\" x=\"617\" y=\"-255.8\" font-family=\"Times,serif\" font-size=\"14.00\">{</text>\n",
       "<text text-anchor=\"start\" x=\"624\" y=\"-255.8\" font-family=\"Times,serif\" font-size=\"14.00\" fill=\"#666633\">impute.fill_num</text>\n",
       "<text text-anchor=\"start\" x=\"714\" y=\"-255.8\" font-family=\"Times,serif\" font-size=\"14.00\">, </text>\n",
       "<text text-anchor=\"start\" x=\"722\" y=\"-255.8\" font-family=\"Times,serif\" font-size=\"14.00\" fill=\"#333366\">impute.fill_abnormal</text>\n",
       "<text text-anchor=\"start\" x=\"839\" y=\"-255.8\" font-family=\"Times,serif\" font-size=\"14.00\">}</text>\n",
       "</g>\n",
       "<!-- highR_cat&#45;&gt;num -->\n",
       "<g id=\"edge12\" class=\"edge\"><title>highR_cat&#45;&gt;num</title>\n",
       "<path fill=\"none\" stroke=\"black\" d=\"M55.6272,-200.637C39.1316,-191.027 23.4875,-177.441 34,-164 46.7474,-147.702 101.074,-137.918 138.445,-132.993\"/>\n",
       "<polygon fill=\"black\" stroke=\"black\" points=\"139.002,-136.451 148.488,-131.732 138.13,-129.505 139.002,-136.451\"/>\n",
       "<text text-anchor=\"start\" x=\"34\" y=\"-168.8\" font-family=\"Times,serif\" font-size=\"14.00\">{</text>\n",
       "<text text-anchor=\"start\" x=\"41\" y=\"-168.8\" font-family=\"Times,serif\" font-size=\"14.00\" fill=\"#663366\">operate.drop</text>\n",
       "<text text-anchor=\"start\" x=\"110\" y=\"-168.8\" font-family=\"Times,serif\" font-size=\"14.00\">, </text>\n",
       "<text text-anchor=\"start\" x=\"118\" y=\"-168.8\" font-family=\"Times,serif\" font-size=\"14.00\" fill=\"#663366\">encode.label</text>\n",
       "<text text-anchor=\"start\" x=\"187\" y=\"-168.8\" font-family=\"Times,serif\" font-size=\"14.00\">, </text>\n",
       "<text text-anchor=\"start\" x=\"195\" y=\"-168.8\" font-family=\"Times,serif\" font-size=\"14.00\" fill=\"#663300\">encode.cat_boost</text>\n",
       "<text text-anchor=\"start\" x=\"289\" y=\"-168.8\" font-family=\"Times,serif\" font-size=\"14.00\">}</text>\n",
       "</g>\n",
       "<!-- lowR_cat&#45;&gt;num -->\n",
       "<g id=\"edge13\" class=\"edge\"><title>lowR_cat&#45;&gt;num</title>\n",
       "<path fill=\"none\" stroke=\"black\" d=\"M293.964,-197.302C299.322,-186.856 303.222,-173.607 296,-164 276.833,-138.503 240.225,-130.699 212.273,-128.703\"/>\n",
       "<polygon fill=\"black\" stroke=\"black\" points=\"212.2,-125.195 202.039,-128.197 211.854,-132.186 212.2,-125.195\"/>\n",
       "<text text-anchor=\"start\" x=\"300\" y=\"-168.8\" font-family=\"Times,serif\" font-size=\"14.00\">{</text>\n",
       "<text text-anchor=\"start\" x=\"307\" y=\"-168.8\" font-family=\"Times,serif\" font-size=\"14.00\" fill=\"#666633\">encode.one_hot</text>\n",
       "<text text-anchor=\"start\" x=\"393\" y=\"-168.8\" font-family=\"Times,serif\" font-size=\"14.00\">, </text>\n",
       "<text text-anchor=\"start\" x=\"401\" y=\"-168.8\" font-family=\"Times,serif\" font-size=\"14.00\" fill=\"#663366\">encode.label</text>\n",
       "<text text-anchor=\"start\" x=\"470\" y=\"-168.8\" font-family=\"Times,serif\" font-size=\"14.00\">, </text>\n",
       "<text text-anchor=\"start\" x=\"478\" y=\"-168.8\" font-family=\"Times,serif\" font-size=\"14.00\" fill=\"#663300\">encode.cat_boost</text>\n",
       "<text text-anchor=\"start\" x=\"572\" y=\"-168.8\" font-family=\"Times,serif\" font-size=\"14.00\">}</text>\n",
       "</g>\n",
       "</g>\n",
       "</svg>\n"
      ],
      "text/plain": [
       "<graphviz.dot.Digraph at 0x7f17d05a1518>"
      ]
     },
     "execution_count": 8,
     "metadata": {},
     "output_type": "execute_result"
    }
   ],
   "source": [
    "hdl_constructor.draw_workflow_space()"
   ]
  },
  {
   "cell_type": "code",
   "execution_count": 9,
   "metadata": {},
   "outputs": [
    {
     "data": {
      "text/plain": [
       "['autoflow_classification.bz2']"
      ]
     },
     "execution_count": 9,
     "metadata": {},
     "output_type": "execute_result"
    }
   ],
   "source": [
    "joblib.dump(trained_pipeline, \"autoflow_classification.bz2\")"
   ]
  },
  {
   "cell_type": "code",
   "execution_count": 10,
   "metadata": {},
   "outputs": [],
   "source": [
    "predict_pipeline = joblib.load(\"autoflow_classification.bz2\")"
   ]
  },
  {
   "cell_type": "code",
   "execution_count": 11,
   "metadata": {},
   "outputs": [
    {
     "name": "stdout",
     "output_type": "stream",
     "text": [
      "[INFO] [autoflow.estimator.classifier.AutoFlowClassifier] 'data_manager' is existing in AutoFlowEstimator, will not load it from database or create it.\n"
     ]
    },
    {
     "data": {
      "text/plain": [
       "array([0, 0, 0, 0, 0, 0, 0, 0, 1, 0, 0, 0, 1, 0, 1, 1, 0, 0, 1, 0, 0, 0,\n",
       "       1, 1, 1, 0, 1, 0, 0, 0, 0, 0, 1, 0, 1, 0, 1, 0, 0, 0, 0, 1, 0, 1,\n",
       "       1, 0, 0, 0, 1, 1, 0, 0, 1, 1, 1, 0, 0, 0, 0, 1, 0, 0, 0, 1, 1, 1,\n",
       "       1, 0, 1, 1, 1, 0, 0, 1, 1, 1, 0, 1, 0, 1, 1, 0, 0, 0, 0, 0, 1, 1,\n",
       "       1, 1, 0, 0, 1, 0, 1, 0, 1, 0, 1, 0, 1, 0, 0, 0, 1, 0, 0, 0, 0, 0,\n",
       "       0, 1, 1, 1, 1, 0, 0, 1, 1, 1, 1, 0, 1, 0, 0, 1, 0, 0, 0, 0, 0, 0,\n",
       "       0, 0, 0, 0, 0, 0, 1, 0, 0, 1, 0, 0, 0, 0, 0, 0, 1, 0, 1, 0, 0, 0,\n",
       "       0, 0, 1, 1, 0, 1, 1, 0, 1, 0, 0, 0, 0, 0, 1, 0, 0, 0, 0, 0, 0, 1,\n",
       "       1, 0, 1, 1, 0, 1, 1, 0, 1, 0, 1, 0, 0, 0, 0, 1, 0, 0, 1, 0, 1, 1,\n",
       "       0, 1, 1, 0, 0, 1, 0, 0, 0, 0, 1, 0, 0, 0, 0, 1, 0, 0, 1, 0, 1, 0,\n",
       "       1, 0, 1, 0, 1, 1, 0, 1, 0, 0, 0, 1, 0, 0, 0, 0, 0, 0, 1, 1, 1, 1,\n",
       "       0, 0, 0, 0, 1, 0, 1, 1, 1, 0, 1, 0, 0, 0, 0, 0, 1, 0, 0, 0, 1, 1,\n",
       "       0, 0, 0, 0, 1, 0, 0, 0, 1, 1, 0, 1, 0, 0, 0, 0, 0, 0, 1, 1, 1, 0,\n",
       "       0, 0, 0, 0, 0, 0, 0, 0, 0, 0, 1, 0, 0, 0, 0, 0, 0, 0, 1, 1, 1, 0,\n",
       "       0, 0, 0, 0, 0, 0, 1, 1, 0, 0, 0, 0, 0, 0, 0, 1, 1, 0, 1, 0, 0, 0,\n",
       "       1, 1, 0, 1, 0, 1, 0, 0, 0, 0, 0, 0, 0, 1, 0, 1, 0, 0, 0, 1, 1, 0,\n",
       "       0, 0, 1, 0, 1, 0, 0, 1, 0, 1, 1, 0, 1, 0, 0, 0, 1, 0, 0, 1, 0, 0,\n",
       "       1, 1, 0, 0, 0, 0, 0, 0, 1, 1, 0, 1, 0, 0, 0, 0, 0, 1, 0, 0, 0, 1,\n",
       "       0, 1, 0, 0, 1, 0, 1, 0, 0, 0, 0, 0, 1, 1, 1, 1, 0, 0, 1, 0, 0, 0])"
      ]
     },
     "execution_count": 11,
     "metadata": {},
     "output_type": "execute_result"
    }
   ],
   "source": [
    "predict_pipeline.predict(test_df)"
   ]
  }
 ],
 "metadata": {
  "kernelspec": {
   "display_name": "auto-sklearn",
   "language": "python",
   "name": "auto-sklearn"
  },
  "language_info": {
   "codemirror_mode": {
    "name": "ipython",
    "version": 3
   },
   "file_extension": ".py",
   "mimetype": "text/x-python",
   "name": "python",
   "nbconvert_exporter": "python",
   "pygments_lexer": "ipython3",
   "version": "3.6.10"
  }
 },
 "nbformat": 4,
 "nbformat_minor": 4
}
